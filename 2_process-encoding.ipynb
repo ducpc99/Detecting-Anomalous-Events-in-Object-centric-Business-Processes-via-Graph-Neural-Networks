{
 "cells": [
  {
   "cell_type": "code",
   "execution_count": 1,
   "id": "8e4ce82c",
   "metadata": {
    "colab": {
     "base_uri": "https://localhost:8080/"
    },
    "id": "8e4ce82c",
    "outputId": "5d8aa87d-930b-4c41-d7e9-06f78ad82ff4"
   },
   "outputs": [],
   "source": [
    "import pandas as pd\n",
    "import numpy as np"
   ]
  },
  {
   "cell_type": "code",
   "execution_count": 2,
   "id": "d4ce98c1",
   "metadata": {},
   "outputs": [],
   "source": [
    "from functions.process_encoding import *"
   ]
  },
  {
   "cell_type": "markdown",
   "id": "bbad9eb2",
   "metadata": {},
   "source": [
    "## Process Instances Encoding"
   ]
  },
  {
   "cell_type": "code",
   "execution_count": 3,
   "id": "46055a2f",
   "metadata": {},
   "outputs": [
    {
     "name": "stderr",
     "output_type": "stream",
     "text": [
      "  0%|          | 0/5 [00:00<?, ?it/s]"
     ]
    },
    {
     "name": "stdout",
     "output_type": "stream",
     "text": [
      "Table Format Successfully Imported\n",
      "Object Format Successfully Imported\n",
      "Graph Format Successfully Imported\n",
      "Applying feature extraction to process executions\n"
     ]
    },
    {
     "name": "stderr",
     "output_type": "stream",
     "text": [
      "100%|██████████| 31509/31509 [00:11<00:00, 2688.41it/s]\n",
      " 20%|██        | 1/5 [03:03<12:14, 183.52s/it]"
     ]
    },
    {
     "name": "stdout",
     "output_type": "stream",
     "text": [
      "Table Format Successfully Imported\n",
      "Object Format Successfully Imported\n",
      "Graph Format Successfully Imported\n",
      "Applying feature extraction to process executions\n"
     ]
    },
    {
     "name": "stderr",
     "output_type": "stream",
     "text": [
      "100%|██████████| 31509/31509 [00:13<00:00, 2354.89it/s]\n",
      " 40%|████      | 2/5 [05:36<08:15, 165.33s/it]"
     ]
    },
    {
     "name": "stdout",
     "output_type": "stream",
     "text": [
      "Table Format Successfully Imported\n",
      "Object Format Successfully Imported\n",
      "Graph Format Successfully Imported\n",
      "Applying feature extraction to process executions\n"
     ]
    },
    {
     "name": "stderr",
     "output_type": "stream",
     "text": [
      "100%|██████████| 31509/31509 [00:11<00:00, 2644.49it/s]\n",
      " 60%|██████    | 3/5 [08:17<05:27, 163.59s/it]"
     ]
    },
    {
     "name": "stdout",
     "output_type": "stream",
     "text": [
      "Table Format Successfully Imported\n",
      "Object Format Successfully Imported\n",
      "Graph Format Successfully Imported\n",
      "Applying feature extraction to process executions\n"
     ]
    },
    {
     "name": "stderr",
     "output_type": "stream",
     "text": [
      "100%|██████████| 31509/31509 [00:13<00:00, 2347.08it/s]\n",
      " 80%|████████  | 4/5 [11:01<02:43, 163.88s/it]"
     ]
    },
    {
     "name": "stdout",
     "output_type": "stream",
     "text": [
      "Table Format Successfully Imported\n",
      "Object Format Successfully Imported\n",
      "Graph Format Successfully Imported\n",
      "Applying feature extraction to process executions\n"
     ]
    },
    {
     "name": "stderr",
     "output_type": "stream",
     "text": [
      "100%|██████████| 31509/31509 [00:13<00:00, 2415.25it/s]\n",
      "100%|██████████| 5/5 [13:49<00:00, 165.90s/it]\n"
     ]
    }
   ],
   "source": [
    "bpi17_object_types = ['application', 'offer']\n",
    "\n",
    "bpi17_parameters = {'obj_names':bpi17_object_types,\n",
    "                    'val_names':[],\n",
    "                    'act_name':'event_activity',\n",
    "                    'time_name':'event_timestamp',\n",
    "                    'sep':','}\n",
    "\n",
    "bpi17_in_path = 'outliers/bpi17/'\n",
    "bpi17_graph_path = 'process_graphs/bpi17/'\n",
    "bpi17_tab_path = 'process_tables/bpi17/'\n",
    "\n",
    "trainfiles_generation(parameters=bpi17_parameters, in_path=bpi17_in_path, graph_path=bpi17_graph_path, tab_path=bpi17_tab_path)"
   ]
  },
  {
   "cell_type": "code",
   "execution_count": 4,
   "id": "3ac219ba",
   "metadata": {
    "scrolled": true
   },
   "outputs": [
    {
     "name": "stderr",
     "output_type": "stream",
     "text": [
      "  0%|          | 0/5 [00:00<?, ?it/s]"
     ]
    },
    {
     "name": "stdout",
     "output_type": "stream",
     "text": [
      "Table Format Successfully Imported\n",
      "Object Format Successfully Imported\n",
      "Graph Format Successfully Imported\n",
      "Applying feature extraction to process executions\n"
     ]
    },
    {
     "name": "stderr",
     "output_type": "stream",
     "text": [
      "100%|██████████| 83/83 [00:10<00:00,  7.70it/s]\n",
      " 20%|██        | 1/5 [00:15<01:01, 15.26s/it]"
     ]
    },
    {
     "name": "stdout",
     "output_type": "stream",
     "text": [
      "Table Format Successfully Imported\n",
      "Object Format Successfully Imported\n",
      "Graph Format Successfully Imported\n",
      "Applying feature extraction to process executions\n"
     ]
    },
    {
     "name": "stderr",
     "output_type": "stream",
     "text": [
      "100%|██████████| 83/83 [00:09<00:00,  8.56it/s]\n",
      " 40%|████      | 2/5 [00:30<00:45, 15.13s/it]"
     ]
    },
    {
     "name": "stdout",
     "output_type": "stream",
     "text": [
      "Table Format Successfully Imported\n",
      "Object Format Successfully Imported\n",
      "Graph Format Successfully Imported\n",
      "Applying feature extraction to process executions\n"
     ]
    },
    {
     "name": "stderr",
     "output_type": "stream",
     "text": [
      "100%|██████████| 83/83 [00:09<00:00,  8.53it/s]\n",
      " 60%|██████    | 3/5 [00:45<00:30, 15.28s/it]"
     ]
    },
    {
     "name": "stdout",
     "output_type": "stream",
     "text": [
      "Table Format Successfully Imported\n",
      "Object Format Successfully Imported\n",
      "Graph Format Successfully Imported\n",
      "Applying feature extraction to process executions\n"
     ]
    },
    {
     "name": "stderr",
     "output_type": "stream",
     "text": [
      "100%|██████████| 83/83 [00:09<00:00,  8.58it/s]\n",
      " 80%|████████  | 4/5 [01:00<00:15, 15.13s/it]"
     ]
    },
    {
     "name": "stdout",
     "output_type": "stream",
     "text": [
      "Table Format Successfully Imported\n",
      "Object Format Successfully Imported\n",
      "Graph Format Successfully Imported\n",
      "Applying feature extraction to process executions\n"
     ]
    },
    {
     "name": "stderr",
     "output_type": "stream",
     "text": [
      "100%|██████████| 83/83 [00:09<00:00,  8.53it/s]\n",
      "100%|██████████| 5/5 [01:15<00:00, 15.13s/it]\n"
     ]
    }
   ],
   "source": [
    "ds2_object_types = ['orders', 'packages', 'items']\n",
    "\n",
    "ds2_parameters = {'obj_names':ds2_object_types,\n",
    "                  'val_names':[],\n",
    "                  'act_name':'event_activity',\n",
    "                  'time_name':'event_timestamp',\n",
    "                  'sep':','}\n",
    "\n",
    "ds2_in_path = 'outliers/ds2/'\n",
    "ds2_graph_path = 'process_graphs/ds2/'\n",
    "ds2_tab_path = 'process_tables/ds2/'\n",
    "\n",
    "trainfiles_generation(parameters=ds2_parameters, in_path=ds2_in_path, graph_path=ds2_graph_path, tab_path=ds2_tab_path)"
   ]
  }
 ],
 "metadata": {
  "accelerator": "GPU",
  "colab": {
   "collapsed_sections": [],
   "provenance": []
  },
  "gpuClass": "standard",
  "kernelspec": {
   "display_name": "venv",
   "language": "python",
   "name": "python3"
  },
  "language_info": {
   "codemirror_mode": {
    "name": "ipython",
    "version": 3
   },
   "file_extension": ".py",
   "mimetype": "text/x-python",
   "name": "python",
   "nbconvert_exporter": "python",
   "pygments_lexer": "ipython3",
   "version": "3.9.13"
  }
 },
 "nbformat": 4,
 "nbformat_minor": 5
}
