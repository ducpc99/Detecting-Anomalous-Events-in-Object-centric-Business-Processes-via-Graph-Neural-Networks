{
 "cells": [
  {
   "cell_type": "code",
   "execution_count": 1,
   "id": "8e4ce82c",
   "metadata": {
    "colab": {
     "base_uri": "https://localhost:8080/"
    },
    "id": "8e4ce82c",
    "outputId": "5d8aa87d-930b-4c41-d7e9-06f78ad82ff4",
    "pycharm": {
     "name": "#%%\n"
    }
   },
   "outputs": [],
   "source": [
    "import pandas as pd\n",
    "import numpy as np\n",
    "import torch"
   ]
  },
  {
   "cell_type": "markdown",
   "id": "01df6669",
   "metadata": {
    "pycharm": {
     "name": "#%% md\n"
    }
   },
   "source": [
    "### GPU Test"
   ]
  },
  {
   "cell_type": "code",
   "execution_count": 2,
   "id": "8e9a006d",
   "metadata": {},
   "outputs": [
    {
     "name": "stdout",
     "output_type": "stream",
     "text": [
      "Version of Tensorflow:  2.10.0\n",
      "Cuda Availability:  True\n",
      "GPU  Availability:  [PhysicalDevice(name='/physical_device:GPU:0', device_type='GPU')]\n",
      "Num GPUs Available:  1\n"
     ]
    }
   ],
   "source": [
    "import tensorflow as tf\n",
    "import warnings\n",
    "\n",
    "warnings.filterwarnings('ignore')\n",
    "\n",
    "# Checking Version of Tensorflow\n",
    "print(\"Version of Tensorflow: \", tf.__version__)\n",
    "    \n",
    "# Checking if cuda is there.\n",
    "print(\"Cuda Availability: \", tf.test.is_built_with_cuda())\n",
    "\n",
    "# Checking GPU is available or not.\n",
    "print(\"GPU  Availability: \", tf.config.list_physical_devices('GPU'))\n",
    "    \n",
    "# Check nos of GPUS\n",
    "print(\"Num GPUs Available: \", len(tf.config.experimental.list_physical_devices('GPU')))"
   ]
  },
  {
   "cell_type": "markdown",
   "id": "e15acc78",
   "metadata": {
    "pycharm": {
     "name": "#%% md\n"
    }
   },
   "source": [
    "## Flat Autoencoder (Nolle et al., 2018, Nguyen et al., 2019)"
   ]
  },
  {
   "cell_type": "code",
   "execution_count": 3,
   "id": "b59c266a",
   "metadata": {},
   "outputs": [],
   "source": [
    "from functions.training import train_eval_ae"
   ]
  },
  {
   "cell_type": "code",
   "execution_count": null,
   "id": "47f42f72",
   "metadata": {},
   "outputs": [],
   "source": [
    "ds2_tab_path = 'process_tables/ds2/'\n",
    "\n",
    "ds2_attr_dims = [17, 21, 1, 20, 1]\n",
    "\n",
    "train_eval_ae(ds2_tab_path, batch_size=1, attribute_dims=ds2_attr_dims)"
   ]
  },
  {
   "cell_type": "markdown",
   "id": "18ab411f",
   "metadata": {
    "pycharm": {
     "name": "#%%\n"
    }
   },
   "source": [
    "### LSTM Autoencoder (Nolle et al., 2022, Nguyen et al., 2019, Lahann et al., 2022)"
   ]
  },
  {
   "cell_type": "code",
   "execution_count": 6,
   "id": "194ee4e8",
   "metadata": {},
   "outputs": [],
   "source": [
    "from functions.training import train_eval_lstmae"
   ]
  },
  {
   "cell_type": "code",
   "execution_count": null,
   "id": "b53ab36d",
   "metadata": {},
   "outputs": [],
   "source": [
    "ds2_tab_path = 'process_tables/ds2/'\n",
    "\n",
    "ds2_attr_dims = [17, 21, 1, 20, 1]\n",
    "\n",
    "train_eval_lstmae(ds2_tab_path, batch_size=8192, attribute_dims=ds2_attr_dims)"
   ]
  }
 ],
 "metadata": {
  "accelerator": "GPU",
  "colab": {
   "collapsed_sections": [],
   "provenance": []
  },
  "gpuClass": "standard",
  "kernelspec": {
   "display_name": "venv",
   "language": "python",
   "name": "python3"
  },
  "language_info": {
   "codemirror_mode": {
    "name": "ipython",
    "version": 3
   },
   "file_extension": ".py",
   "mimetype": "text/x-python",
   "name": "python",
   "nbconvert_exporter": "python",
   "pygments_lexer": "ipython3",
   "version": "3.9.13"
  }
 },
 "nbformat": 4,
 "nbformat_minor": 5
}
